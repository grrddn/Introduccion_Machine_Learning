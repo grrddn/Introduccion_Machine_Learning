{
 "cells": [
  {
   "cell_type": "markdown",
   "id": "71f87653",
   "metadata": {},
   "source": [
    "# **MÓDULO 41** - Introducción a Machine Learning I\n",
    "\n",
    "En este módulo, nos centraremos en la preparación y análisis de datos, que son fundamentales para el desarrollo de modelos predictivos efectivos. Exploraremos técnicas esenciales para asegurar que los datos estén listos para ser utilizados en Machine Learning.\n",
    "\n",
    "### **Análisis Exploratorio de Datos**\n",
    "\n",
    "Aprenderemos a realizar un análisis exhaustivo de los datos, generando estadísticas básicas, identificando datos nulos y utilizando gráficas de correlación para detectar multicolinealidad. Este paso es crucial para entender la estructura y calidad de los datos.\n",
    "\n",
    "### **Feature Engineering**\n",
    "\n",
    "Nos enfocaremos en mejorar la estructura de los datos mediante la eliminación de columnas irrelevantes o redundantes. Este proceso ayuda a optimizar el conjunto de datos para el modelado, asegurando que solo las características más relevantes sean utilizadas.\n",
    "\n",
    "### **Transformación y Normalización de Datos**\n",
    "\n",
    "Discutiremos cómo transformar variables con sesgo alto mediante logaritmos para normalizar la distribución de los datos. También abordaremos la estandarización de escalas, lo cual es esencial para mejorar la eficacia de los modelos predcitivos.\n",
    "\n",
    "___________"
   ]
  },
  {
   "cell_type": "markdown",
   "id": "fa7a35a6",
   "metadata": {},
   "source": [
    "## **Orden típico de un modelo de Machine Learning**\n",
    "\n",
    "- Siempre validar si será un aprendizaje **supervisado** o **no supervisado**.\n",
    "    - **Supervisado** - Análisis que se aplica a un set de datos que buscan la respuesta a una pregunta utilizando valores que ya fueron etiquetados: bueno/malo, 1/0, un rango de números. Por ejemplo un **modelo de regresión**.\n",
    "    - **No supervisado** - Análisis que se aplica a un set de datos que **NO** fueron etiquetados previamente. Por ejemplo **clustering de clientes**.\n",
    "\n",
    "### **PARTE 1 - Preparación**\n",
    "\n",
    "- Hacer EDA (Análisis exploratorio de datos).\n",
    "    > Base de cualquier modelo de Machine Learning. Se va a explorar la información y prepararla para que el científico de datos aplique los modelos necesarios.\n",
    "- Análisis univariado.\n",
    "- Análisis bivariado - correlación.\n",
    "- Field Engineering.\n",
    "- Definir porcentaje de training y testing.\n",
    "- Definir los modelos que se van preliminarmente a ejecutar para entender la data.\n",
    "- Split de la data.\n",
    "\n",
    "### **PARTE 2**\n",
    "\n",
    "- Imputación de datos.\n",
    "- Balance de clases.\n",
    "- Ejecutar modelo.\n",
    "- Matriz de confusión.\n",
    "- Validar precisión e indicadores por modelo.\n",
    "\n",
    "_____"
   ]
  },
  {
   "cell_type": "code",
   "execution_count": null,
   "id": "2aa6489f",
   "metadata": {},
   "outputs": [],
   "source": [
    "import pandas as pd\n",
    "import sys\n",
    "import numpy as np\n",
    "import os\n",
    "import seaborn as sns\n",
    "import matplotlib.pyplot as plt\n",
    "\n",
    "os.chdir('')\n",
    "\n",
    "df"
   ]
  },
  {
   "cell_type": "code",
   "execution_count": null,
   "id": "5f72fc74",
   "metadata": {},
   "outputs": [],
   "source": []
  }
 ],
 "metadata": {
  "kernelspec": {
   "display_name": "base",
   "language": "python",
   "name": "python3"
  },
  "language_info": {
   "codemirror_mode": {
    "name": "ipython",
    "version": 3
   },
   "file_extension": ".py",
   "mimetype": "text/x-python",
   "name": "python",
   "nbconvert_exporter": "python",
   "pygments_lexer": "ipython3",
   "version": "3.12.7"
  }
 },
 "nbformat": 4,
 "nbformat_minor": 5
}
